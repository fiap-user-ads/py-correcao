{
 "cells": [
  {
   "cell_type": "markdown",
   "metadata": {},
   "source": [
    "## Correção da atividade 1"
   ]
  },
  {
   "cell_type": "markdown",
   "metadata": {},
   "source": [
    "1. Fazer um subalgoritmo que pegue um texto por parâmetro e retorne o mesmo texto com as vogais em maiúsculo."
   ]
  },
  {
   "cell_type": "code",
   "execution_count": null,
   "metadata": {},
   "outputs": [],
   "source": [
    "def converte_vogais_maiusculo(f: str) -> str:\n",
    "    for l in f:\n",
    "        if l in ['a' , 'e', 'i' , 'o', 'u']:\n",
    "            f = f.replace(l, l.upper())\n",
    "    return f\n",
    "            \n",
    "# def converte_vogais_maiusculo(frase: str) -> str:\n",
    "#     vogais = \"aeiou\"\n",
    "#     nova_frase = \"\"\n",
    "#     for vogal in frase:\n",
    "#         if vogal in vogais:\n",
    "#             nova_frase += vogal.upper()\n",
    "#         else:\n",
    "#             nova_frase += vogal\n",
    "#     return nova_frase\n",
    "\n",
    "frase = \"amanha é terca-feira\"\n",
    "print(converte_vogais_maiusculo(frase))\n",
    "# BOm dIA A tOdOs"
   ]
  },
  {
   "cell_type": "markdown",
   "metadata": {},
   "source": [
    "2. Fazer um subalgoritmo que verifique se um valor string passado por parâmetro é ou não float."
   ]
  },
  {
   "cell_type": "code",
   "execution_count": null,
   "metadata": {},
   "outputs": [],
   "source": [
    "def isfloat(v: str) -> bool:\n",
    "    teste_v = v.replace('.','', 1)\n",
    "    if teste_v.isnumeric():\n",
    "        return True\n",
    "    else:\n",
    "        return False\n",
    "\n",
    "def isfloat2(v: str) -> bool:\n",
    "    if v.isnumeric():\n",
    "        return True\n",
    "    else:\n",
    "        ponto = 0\n",
    "        for c in v:\n",
    "            if c in ['0','1','2','3','4','5','6','7','8','9','.',',']:\n",
    "                if c == '.' or c == ',':\n",
    "                    ponto += 1 # ponto vale 2\n",
    "            else:\n",
    "                return False\n",
    "        # ---- final do laço    \n",
    "        return ponto <= 1\n",
    "        \n",
    "        # if ponto == 1:\n",
    "        #     return True\n",
    "        # else:\n",
    "        #     return False\n",
    "\n",
    "# 1\n",
    "# 12.45.34\n",
    "\n",
    "# print(isfloat2(\"12\"))\n",
    "# print(isfloat2(\"12.34\"))\n",
    "# print(isfloat2(\"12.45.34\"))\n",
    "# print(isfloat2(\"1.2,4\"))"
   ]
  },
  {
   "cell_type": "markdown",
   "metadata": {},
   "source": [
    "3. Fazer um programa que permita a interação do usuário."
   ]
  },
  {
   "cell_type": "code",
   "execution_count": null,
   "metadata": {},
   "outputs": [],
   "source": [
    "while True:\n",
    "    print(\"\"\"\n",
    "    1 - SAIR\n",
    "    2 - Vogais maiusculas\n",
    "    3 - Se o valor é float\"\"\")\n",
    "    opcao = int(input(\"Opção: \"))\n",
    "    match opcao:\n",
    "        case 0:\n",
    "            break\n",
    "        case 1:\n",
    "            frase = input(\"Digite uma frase: \")\n",
    "            print(converte_vogais_maiusculo(frase))\n",
    "        case 2:\n",
    "            valor = input(\"Digite um valor: \")\n",
    "            if isfloat(valor):\n",
    "                print(f\"O valor {valor} é float!\")\n",
    "            else:\n",
    "                print(f\"O valor {valor} NÃO é float!\")\n",
    "        case _: \n",
    "            print(\"Opção inválida!\")"
   ]
  },
  {
   "cell_type": "markdown",
   "metadata": {},
   "source": [
    "## Método de pesquisa Sequencial\n",
    "Procura o valor desde o primeiro elemento até encontrá-lo ou não."
   ]
  },
  {
   "cell_type": "code",
   "execution_count": 17,
   "metadata": {},
   "outputs": [
    {
     "name": "stdout",
     "output_type": "stream",
     "text": [
      "Não encontrou o valor 122!\n",
      "[34, 76, 67, 12, 89, 55, 33, 22, 99, 14]\n",
      "[12, 14, 22, 33, 34, 55, 67, 76, 89, 99]\n"
     ]
    }
   ],
   "source": [
    "lista = [34,76,67,12,89,55,33,22,99,14]\n",
    "\n",
    "# ---- método de pesquisa sequencial\n",
    "valor = 122\n",
    "achou = False\n",
    "for elem in lista:\n",
    "    if elem == valor:\n",
    "        achou = True\n",
    "        break\n",
    "    \n",
    "if achou:\n",
    "    print(f\"Encontrou o valor {valor}!\")\n",
    "else:\n",
    "    print(f\"Não encontrou o valor {valor}!\")\n",
    "    \n",
    "# print(lista)\n",
    "# lista.sort()\n",
    "# print(lista)"
   ]
  },
  {
   "cell_type": "markdown",
   "metadata": {},
   "source": [
    "## Ordenação de lista"
   ]
  },
  {
   "cell_type": "code",
   "execution_count": 20,
   "metadata": {},
   "outputs": [
    {
     "name": "stdout",
     "output_type": "stream",
     "text": [
      "Embaralhada:  [34, 76, 67, 12, 89, 55, 33, 22, 99, 14]\n",
      "sort:  [12, 14, 22, 33, 34, 55, 67, 76, 89, 99]\n",
      "Embaralhada:  [34, 76, 67, 12, 89, 55, 33, 22, 99, 14]\n",
      "metodo de ordenacao:  [12, 14, 22, 33, 34, 55, 67, 76, 89, 99]\n"
     ]
    }
   ],
   "source": [
    "# LISTA DESORDENADA\n",
    "\n",
    "#        0  1  2  3  4  5  6  7   8 9\n",
    "lista = [34,76,67,12,89,55,33,22,99,14]\n",
    "print(\"Embaralhada: \", lista)\n",
    "lista.sort()\n",
    "print(\"sort: \", lista)\n",
    "\n",
    "lista = [34,76,67,12,89,55,33,22,99,14]\n",
    "print(\"Embaralhada: \", lista)\n",
    "\n",
    "# ROTINA QUE ORDENA\n",
    "for trav in range(0, len(lista) - 1, 1):\n",
    "    for prox in range(trav + 1, len(lista), 1):\n",
    "        if lista[trav] > lista[prox]:\n",
    "            # inverte os elementos\n",
    "            aux = lista[trav]\n",
    "            lista[trav] = lista[prox]\n",
    "            lista[prox] = aux\n",
    "\n",
    "# EXIBIÇÃO DA LISTA ORDENADA\n",
    "print(\"metodo de ordenacao: \", lista)\n",
    "            "
   ]
  }
 ],
 "metadata": {
  "kernelspec": {
   "display_name": "Python 3",
   "language": "python",
   "name": "python3"
  },
  "language_info": {
   "codemirror_mode": {
    "name": "ipython",
    "version": 3
   },
   "file_extension": ".py",
   "mimetype": "text/x-python",
   "name": "python",
   "nbconvert_exporter": "python",
   "pygments_lexer": "ipython3",
   "version": "3.11.1"
  },
  "orig_nbformat": 4
 },
 "nbformat": 4,
 "nbformat_minor": 2
}
